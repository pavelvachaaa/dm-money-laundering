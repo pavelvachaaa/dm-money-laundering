{
 "cells": [
  {
   "cell_type": "code",
   "execution_count": null,
   "id": "99e70868-73c1-4245-8c09-8259135f7d1e",
   "metadata": {},
   "outputs": [],
   "source": [
    "import pandas as pd"
   ]
  }
 ],
 "metadata": {
  "kernelspec": {
   "display_name": "Python (jlab_env)",
   "language": "python",
   "name": "jlab_env"
  },
  "language_info": {
   "codemirror_mode": {
    "name": "ipython",
    "version": 3
   },
   "file_extension": ".py",
   "mimetype": "text/x-python",
   "name": "python",
   "nbconvert_exporter": "python",
   "pygments_lexer": "ipython3",
   "version": "3.9.6"
  }
 },
 "nbformat": 4,
 "nbformat_minor": 5
}
